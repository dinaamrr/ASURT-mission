{
 "cells": [
  {
   "cell_type": "code",
   "execution_count": 7,
   "metadata": {},
   "outputs": [],
   "source": [
    "import numpy as np\n",
    "import matplotlib.pyplot as plt\n",
    "import pandas as pd\n",
    "import h5py\n",
    "import scipy\n",
    "from PIL import Image\n",
    "from scipy import ndimage\n",
    "from lr_utils import load_dataset\n",
    "import tensorflow as tf\n",
    "import keras\n",
    "\n",
    "from keras.models import Sequential\n",
    "from keras.layers import Dense, Activation, Dropout, Convolution2D, Flatten, MaxPooling2D, Reshape, InputLayer\n",
    "from tensorflow.keras.utils import to_categorical\n",
    "from keras.layers import Conv2D, MaxPooling2D\n",
    "%matplotlib inline"
   ]
  },
  {
   "cell_type": "code",
   "execution_count": 8,
   "metadata": {},
   "outputs": [],
   "source": [
    "train_set = pd.read_csv(\"C:/Users/hp/Desktop/fashion-mnist_train.csv\")\n",
    "test_set = pd.read_csv(\"C:/Users/hp/Desktop/fashion-mnist_test.csv\")\n"
   ]
  },
  {
   "cell_type": "code",
   "execution_count": 9,
   "metadata": {},
   "outputs": [
    {
     "name": "stdout",
     "output_type": "stream",
     "text": [
      "(48000, 784) (48000, 10) (12000, 784) (12000, 10)\n"
     ]
    }
   ],
   "source": [
    "from sklearn.model_selection import train_test_split\n",
    "\n",
    "X = np.array(train_set.iloc[:, 1:])\n",
    "y = to_categorical(np.array(train_set.iloc[:, 0]))\n",
    "\n",
    "x_train, x_val, y_train, y_val = train_test_split(X, y, test_size = 0.2, random_state = 1)\n",
    "\n",
    "print( x_train.shape,  y_train.shape, x_val.shape, y_val.shape)\n"
   ]
  },
  {
   "cell_type": "code",
   "execution_count": 10,
   "metadata": {},
   "outputs": [
    {
     "name": "stdout",
     "output_type": "stream",
     "text": [
      "(10000, 784) (10000, 10)\n"
     ]
    }
   ],
   "source": [
    "x_test = np.array(test_set.iloc[:, 1:])\n",
    "y_test = to_categorical(np.array(test_set.iloc[:, 0]))\n",
    "\n",
    "print(x_test.shape, y_test.shape)"
   ]
  },
  {
   "cell_type": "code",
   "execution_count": 36,
   "metadata": {},
   "outputs": [
    {
     "name": "stdout",
     "output_type": "stream",
     "text": [
      "[0. 0. 0. 0. 0. 1. 0. 0. 0. 0.]\n"
     ]
    },
    {
     "data": {
      "image/png": "[encoded data removed]",
      "text/plain": [
       "<Figure size 432x288 with 1 Axes>"
      ]
     },
     "metadata": {
      "needs_background": "light"
     },
     "output_type": "display_data"
    }
   ],
   "source": [
    "plt.imshow(x_test[8].reshape(28,28), cmap='gray', interpolation='none')\n",
    "print(y_test[8])"
   ]
  },
  {
   "cell_type": "code",
   "execution_count": 37,
   "metadata": {},
   "outputs": [
    {
     "name": "stdout",
     "output_type": "stream",
     "text": [
      "[0. 0. 0. 0. 0. 1. 0. 0. 0. 0.]\n"
     ]
    },
    {
     "data": {
      "image/png": "[encoded data removed]",
      "text/plain": [
       "<Figure size 432x288 with 1 Axes>"
      ]
     },
     "metadata": {
      "needs_background": "light"
     },
     "output_type": "display_data"
    }
   ],
   "source": [
    "plt.imshow(x_test[15].reshape(28,28), cmap='viridis', interpolation='none')\n",
    "print(y_test[15])"
   ]
  },
  {
   "cell_type": "code",
   "execution_count": 38,
   "metadata": {},
   "outputs": [],
   "source": [
    "input_num_units = 784\n",
    "hidden_num_units = 50\n",
    "output_num_units = 10\n",
    "\n",
    "\n",
    "batch_size = 256"
   ]
  },
  {
   "cell_type": "code",
   "execution_count": null,
   "metadata": {},
   "outputs": [],
   "source": [
    "x_train = x_train.astype('float32')\n",
    "x_test = x_test.astype('float32')\n",
    "x_val = x_val.astype('float32')\n",
    "\n",
    "x_val /= 255.0\n",
    "x_train /= 255.0\n",
    "x_test /= 255.0"
   ]
  },
  {
   "cell_type": "code",
   "execution_count": 41,
   "metadata": {},
   "outputs": [
    {
     "name": "stdout",
     "output_type": "stream",
     "text": [
      "Epoch 1/25\n",
      "188/188 [==============================] - 41s 134ms/step - loss: 0.3943 - accuracy: 0.0994 - val_loss: 0.3256 - val_accuracy: 0.1006\n",
      "Epoch 2/25\n",
      "188/188 [==============================] - 20s 107ms/step - loss: 0.3311 - accuracy: 0.0999 - val_loss: 0.3252 - val_accuracy: 0.1003\n",
      "Epoch 3/25\n",
      "188/188 [==============================] - 20s 108ms/step - loss: 0.3291 - accuracy: 0.0997 - val_loss: 0.2732 - val_accuracy: 0.1992\n",
      "Epoch 4/25\n",
      "188/188 [==============================] - 20s 104ms/step - loss: 0.2700 - accuracy: 0.2244 - val_loss: 0.1932 - val_accuracy: 0.4891\n",
      "Epoch 5/25\n",
      "188/188 [==============================] - 20s 105ms/step - loss: 0.1852 - accuracy: 0.5168 - val_loss: 0.1387 - val_accuracy: 0.6275\n",
      "Epoch 6/25\n",
      "188/188 [==============================] - 20s 104ms/step - loss: 0.1462 - accuracy: 0.6368 - val_loss: 0.1216 - val_accuracy: 0.7067\n",
      "Epoch 7/25\n",
      "188/188 [==============================] - 20s 105ms/step - loss: 0.1305 - accuracy: 0.6898 - val_loss: 0.1158 - val_accuracy: 0.7204\n",
      "Epoch 8/25\n",
      "188/188 [==============================] - 20s 104ms/step - loss: 0.1224 - accuracy: 0.7098 - val_loss: 0.1120 - val_accuracy: 0.7194\n",
      "Epoch 9/25\n",
      "188/188 [==============================] - 20s 104ms/step - loss: 0.1170 - accuracy: 0.7216 - val_loss: 0.1072 - val_accuracy: 0.7296\n",
      "Epoch 10/25\n",
      "188/188 [==============================] - 20s 107ms/step - loss: 0.1159 - accuracy: 0.7280 - val_loss: 0.1057 - val_accuracy: 0.7388\n",
      "Epoch 11/25\n",
      "188/188 [==============================] - 20s 105ms/step - loss: 0.1117 - accuracy: 0.7410 - val_loss: 0.1006 - val_accuracy: 0.7713\n",
      "Epoch 12/25\n",
      "188/188 [==============================] - 16s 85ms/step - loss: 0.1051 - accuracy: 0.7731 - val_loss: 0.0950 - val_accuracy: 0.7878\n",
      "Epoch 13/25\n",
      "188/188 [==============================] - 11s 57ms/step - loss: 0.1011 - accuracy: 0.7870 - val_loss: 0.0923 - val_accuracy: 0.8004\n",
      "Epoch 14/25\n",
      "188/188 [==============================] - 10s 53ms/step - loss: 0.0975 - accuracy: 0.7943 - val_loss: 0.0901 - val_accuracy: 0.7974\n",
      "Epoch 15/25\n",
      "188/188 [==============================] - 11s 56ms/step - loss: 0.0940 - accuracy: 0.7994 - val_loss: 0.0881 - val_accuracy: 0.8077\n",
      "Epoch 16/25\n",
      "188/188 [==============================] - 10s 55ms/step - loss: 0.0905 - accuracy: 0.8046 - val_loss: 0.0835 - val_accuracy: 0.8097\n",
      "Epoch 17/25\n",
      "188/188 [==============================] - 10s 54ms/step - loss: 0.0901 - accuracy: 0.8079 - val_loss: 0.0863 - val_accuracy: 0.8123\n",
      "Epoch 18/25\n",
      "188/188 [==============================] - 11s 57ms/step - loss: 0.0900 - accuracy: 0.8096 - val_loss: 0.0855 - val_accuracy: 0.8114\n",
      "Epoch 19/25\n",
      "188/188 [==============================] - 10s 54ms/step - loss: 0.0901 - accuracy: 0.8112 - val_loss: 0.0824 - val_accuracy: 0.8180\n",
      "Epoch 20/25\n",
      "188/188 [==============================] - 10s 55ms/step - loss: 0.0885 - accuracy: 0.8145 - val_loss: 0.0874 - val_accuracy: 0.8263\n",
      "Epoch 21/25\n",
      "188/188 [==============================] - 10s 56ms/step - loss: 0.0873 - accuracy: 0.8176 - val_loss: 0.0864 - val_accuracy: 0.8147\n",
      "Epoch 22/25\n",
      "188/188 [==============================] - 10s 53ms/step - loss: 0.0853 - accuracy: 0.8246 - val_loss: 0.0800 - val_accuracy: 0.8265\n",
      "Epoch 23/25\n",
      "188/188 [==============================] - 10s 55ms/step - loss: 0.0846 - accuracy: 0.8282 - val_loss: 0.0777 - val_accuracy: 0.8420\n",
      "Epoch 24/25\n",
      "188/188 [==============================] - 10s 56ms/step - loss: 0.0838 - accuracy: 0.8311 - val_loss: 0.0748 - val_accuracy: 0.8468\n",
      "Epoch 25/25\n",
      "188/188 [==============================] - 10s 54ms/step - loss: 0.0809 - accuracy: 0.8390 - val_loss: 0.0764 - val_accuracy: 0.8430\n"
     ]
    },
    {
     "data": {
      "text/plain": [
       "<keras.callbacks.History at 0x1bb3b392190>"
      ]
     },
     "execution_count": 41,
     "metadata": {},
     "output_type": "execute_result"
    }
   ],
   "source": [
    "model = Sequential()\n",
    "\n",
    "model.add(Dense(input_dim = 784, activation='relu',units=500))\n",
    "model.add(Dropout(0.25))\n",
    "model.add(Dense(input_dim = 500, activation='relu',units=500))\n",
    "model.add(Dropout(0.25))\n",
    "model.add(Dense(input_dim = 500, activation='relu',units=500))\n",
    "model.add(Dropout(0.25))\n",
    "model.add(Dense(input_dim = 500, activation='relu',units=500))\n",
    "model.add(Dropout(0.25))\n",
    "model.add(Dense(input_dim = 500, activation='relu',units=500))\n",
    "model.add(Dropout(0.25))\n",
    "model.add(Dense(input_dim = 500, activation='relu',units=500))\n",
    "model.add(Dropout(0.25))\n",
    "model.add(Dense(input_dim = 500, activation='relu',units=500))\n",
    "model.add(Dropout(0.25))\n",
    "model.add(Dense(input_dim = 500, activation='relu',units=500))\n",
    "model.add(Dropout(0.25))\n",
    "model.add(Dense(input_dim = 500, activation='relu',units=250))\n",
    "model.add(Dropout(0.25))\n",
    "model.add(Dense(input_dim = 250 , activation='relu',units=250))\n",
    "model.add(Dropout(0.25))\n",
    "model.add(Dense(input_dim = 250, activation='relu',units=250))\n",
    "model.add(Dropout(0.25))\n",
    "model.add(Dense(input_dim = 250, activation='relu',units=100))\n",
    "model.add(Dropout(0.25))\n",
    "\n",
    "model.add(Dense(input_dim = 100, activation='softmax',units=10))\n",
    "\n",
    "\n",
    "model.compile(optimizer= 'adam' , loss= keras.losses.binary_crossentropy, metrics=['accuracy'])\n",
    "\n",
    "model.fit(x_train, y_train, epochs = 25, batch_size = 256, validation_data=(x_val, y_val))"
   ]
  },
  {
   "cell_type": "code",
   "execution_count": 42,
   "metadata": {},
   "outputs": [
    {
     "name": "stdout",
     "output_type": "stream",
     "text": [
      "Model: \"sequential_2\"\n",
      "_________________________________________________________________\n",
      "Layer (type)                 Output Shape              Param #   \n",
      "=================================================================\n",
      "dense_26 (Dense)             (None, 500)               392500    \n",
      "_________________________________________________________________\n",
      "dropout_24 (Dropout)         (None, 500)               0         \n",
      "_________________________________________________________________\n",
      "dense_27 (Dense)             (None, 500)               250500    \n",
      "_________________________________________________________________\n",
      "dropout_25 (Dropout)         (None, 500)               0         \n",
      "_________________________________________________________________\n",
      "dense_28 (Dense)             (None, 500)               250500    \n",
      "_________________________________________________________________\n",
      "dropout_26 (Dropout)         (None, 500)               0         \n",
      "_________________________________________________________________\n",
      "dense_29 (Dense)             (None, 500)               250500    \n",
      "_________________________________________________________________\n",
      "dropout_27 (Dropout)         (None, 500)               0         \n",
      "_________________________________________________________________\n",
      "dense_30 (Dense)             (None, 500)               250500    \n",
      "_________________________________________________________________\n",
      "dropout_28 (Dropout)         (None, 500)               0         \n",
      "_________________________________________________________________\n",
      "dense_31 (Dense)             (None, 500)               250500    \n",
      "_________________________________________________________________\n",
      "dropout_29 (Dropout)         (None, 500)               0         \n",
      "_________________________________________________________________\n",
      "dense_32 (Dense)             (None, 500)               250500    \n",
      "_________________________________________________________________\n",
      "dropout_30 (Dropout)         (None, 500)               0         \n",
      "_________________________________________________________________\n",
      "dense_33 (Dense)             (None, 500)               250500    \n",
      "_________________________________________________________________\n",
      "dropout_31 (Dropout)         (None, 500)               0         \n",
      "_________________________________________________________________\n",
      "dense_34 (Dense)             (None, 250)               125250    \n",
      "_________________________________________________________________\n",
      "dropout_32 (Dropout)         (None, 250)               0         \n",
      "_________________________________________________________________\n",
      "dense_35 (Dense)             (None, 250)               62750     \n",
      "_________________________________________________________________\n",
      "dropout_33 (Dropout)         (None, 250)               0         \n",
      "_________________________________________________________________\n",
      "dense_36 (Dense)             (None, 250)               62750     \n",
      "_________________________________________________________________\n",
      "dropout_34 (Dropout)         (None, 250)               0         \n",
      "_________________________________________________________________\n",
      "dense_37 (Dense)             (None, 100)               25100     \n",
      "_________________________________________________________________\n",
      "dropout_35 (Dropout)         (None, 100)               0         \n",
      "_________________________________________________________________\n",
      "dense_38 (Dense)             (None, 10)                1010      \n",
      "=================================================================\n",
      "Total params: 2,422,860\n",
      "Trainable params: 2,422,860\n",
      "Non-trainable params: 0\n",
      "_________________________________________________________________\n"
     ]
    }
   ],
   "source": [
    "model.summary()"
   ]
  },
  {
   "cell_type": "code",
   "execution_count": null,
   "metadata": {},
   "outputs": [],
   "source": []
  },
  {
   "cell_type": "code",
   "execution_count": null,
   "metadata": {},
   "outputs": [],
   "source": []
  }
 ],
 "metadata": {
  "kernelspec": {
   "display_name": "Python 3",
   "language": "python",
   "name": "python3"
  },
  "language_info": {
   "codemirror_mode": {
    "name": "ipython",
    "version": 3
   },
   "file_extension": ".py",
   "mimetype": "text/x-python",
   "name": "python",
   "nbconvert_exporter": "python",
   "pygments_lexer": "ipython3",
   "version": "3.8.3"
  }
 },
 "nbformat": 4,
 "nbformat_minor": 4
}
