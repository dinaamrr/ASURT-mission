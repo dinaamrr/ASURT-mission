{
 "cells": [
  {
   "cell_type": "code",
   "execution_count": 7,
   "metadata": {},
   "outputs": [],
   "source": [
    "import numpy as np\n",
    "import matplotlib.pyplot as plt\n",
    "import pandas as pd\n",
    "import h5py\n",
    "import scipy\n",
    "from PIL import Image\n",
    "from scipy import ndimage\n",
    "from lr_utils import load_dataset\n",
    "import tensorflow as tf\n",
    "import keras\n",
    "\n",
    "from keras.models import Sequential\n",
    "from keras.layers import Dense, Activation, Dropout, Convolution2D, Flatten, MaxPooling2D, Reshape, InputLayer\n",
    "from tensorflow.keras.utils import to_categorical\n",
    "from keras.layers import Conv2D, MaxPooling2D\n",
    "%matplotlib inline"
   ]
  },
  {
   "cell_type": "code",
   "execution_count": 8,
   "metadata": {},
   "outputs": [],
   "source": [
    "train_set = pd.read_csv(\"C:/Users/hp/Desktop/fashion-mnist_train.csv\")\n",
    "test_set = pd.read_csv(\"C:/Users/hp/Desktop/fashion-mnist_test.csv\")\n"
   ]
  },
  {
   "cell_type": "code",
   "execution_count": 9,
   "metadata": {},
   "outputs": [
    {
     "name": "stdout",
     "output_type": "stream",
     "text": [
      "(48000, 784) (48000, 10) (12000, 784) (12000, 10)\n"
     ]
    }
   ],
   "source": [
    "from sklearn.model_selection import train_test_split\n",
    "\n",
    "X = np.array(train_set.iloc[:, 1:])\n",
    "y = to_categorical(np.array(train_set.iloc[:, 0]))\n",
    "\n",
    "x_train, x_val, y_train, y_val = train_test_split(X, y, test_size = 0.2, random_state = 1)\n",
    "\n",
    "print( x_train.shape,  y_train.shape, x_val.shape, y_val.shape)\n"
   ]
  },
  {
   "cell_type": "code",
   "execution_count": 10,
   "metadata": {},
   "outputs": [
    {
     "name": "stdout",
     "output_type": "stream",
     "text": [
      "(10000, 784) (10000, 10)\n"
     ]
    }
   ],
   "source": [
    "x_test = np.array(test_set.iloc[:, 1:])\n",
    "y_test = to_categorical(np.array(test_set.iloc[:, 0]))\n",
    "\n",
    "print(x_test.shape, y_test.shape)"
   ]
  },
  {
   "cell_type": "code",
   "execution_count": 11,
   "metadata": {},
   "outputs": [
    {
     "name": "stdout",
     "output_type": "stream",
     "text": [
      "[0. 0. 0. 0. 0. 0. 1. 0. 0. 0.]\n"
     ]
    },
    {
     "data": {
      "image/png": "[encoded data removed]",
      "text/plain": [
       "<Figure size 432x288 with 1 Axes>"
      ]
     },
     "metadata": {
      "needs_background": "light"
     },
     "output_type": "display_data"
    }
   ],
   "source": [
    "plt.imshow(x_test[7].reshape(28,28), cmap='gray', interpolation='none')\n",
    "print(y_test[7])"
   ]
  },
  {
   "cell_type": "code",
   "execution_count": 12,
   "metadata": {},
   "outputs": [
    {
     "name": "stdout",
     "output_type": "stream",
     "text": [
      "[1. 0. 0. 0. 0. 0. 0. 0. 0. 0.]\n"
     ]
    },
    {
     "data": {
      "image/png": "[encoded data removed]",
      "text/plain": [
       "<Figure size 432x288 with 1 Axes>"
      ]
     },
     "metadata": {
      "needs_background": "light"
     },
     "output_type": "display_data"
    }
   ],
   "source": [
    "plt.imshow(x_test[3096].reshape(28,28), cmap='viridis', interpolation='none')\n",
    "print(y_test[3096])"
   ]
  },
  {
   "cell_type": "code",
   "execution_count": 13,
   "metadata": {},
   "outputs": [],
   "source": [
    "input_num_units = 784\n",
    "hidden_num_units = 50\n",
    "output_num_units = 10\n",
    "\n",
    "\n",
    "batch_size = 256"
   ]
  },
  {
   "cell_type": "code",
   "execution_count": 14,
   "metadata": {},
   "outputs": [],
   "source": [
    "x_train = x_train.astype('float32')\n",
    "x_test = x_test.astype('float32')\n",
    "x_val = x_val.astype('float32')\n",
    "\n",
    "x_val /= 255.0\n",
    "x_train /= 255.0\n",
    "x_test /= 255.0"
   ]
  },
  {
   "cell_type": "code",
   "execution_count": null,
   "metadata": {},
   "outputs": [
    {
     "name": "stdout",
     "output_type": "stream",
     "text": [
      "Epoch 1/25\n",
      "188/188 [==============================] - 91s 137ms/step - loss: 0.3879 - accuracy: 0.1178 - val_loss: 0.2026 - val_accuracy: 0.4153\n",
      "Epoch 2/25\n",
      "188/188 [==============================] - 21s 111ms/step - loss: 0.1888 - accuracy: 0.5226 - val_loss: 0.1056 - val_accuracy: 0.7287\n",
      "Epoch 3/25\n",
      "188/188 [==============================] - 21s 113ms/step - loss: 0.1160 - accuracy: 0.7241 - val_loss: 0.0994 - val_accuracy: 0.7571\n",
      "Epoch 4/25\n",
      " 47/188 [======>.......................] - ETA: 15s - loss: 0.1060 - accuracy: 0.7400"
     ]
    }
   ],
   "source": [
    "model = Sequential()\n",
    "\n",
    "model.add(Dense(input_dim = 784, activation='relu',units=500))\n",
    "model.add(Dropout(0.25))\n",
    "model.add(Dense(input_dim = 500, activation='relu',units=500))\n",
    "model.add(Dropout(0.25))\n",
    "model.add(Dense(input_dim = 500, activation='relu',units=500))\n",
    "model.add(Dropout(0.25))\n",
    "model.add(Dense(input_dim = 500, activation='relu',units=500))\n",
    "model.add(Dropout(0.25))\n",
    "model.add(Dense(input_dim = 500, activation='relu',units=500))\n",
    "model.add(Dropout(0.25))\n",
    "model.add(Dense(input_dim = 500, activation='relu',units=500))\n",
    "model.add(Dropout(0.25))\n",
    "model.add(Dense(input_dim = 500, activation='relu',units=500))\n",
    "model.add(Dropout(0.25))\n",
    "model.add(Dense(input_dim = 500, activation='relu',units=500))\n",
    "model.add(Dropout(0.25))\n",
    "model.add(Dense(input_dim = 500, activation='relu',units=250))\n",
    "model.add(Dropout(0.25))\n",
    "model.add(Dense(input_dim = 250 , activation='relu',units=250))\n",
    "model.add(Dropout(0.25))\n",
    "model.add(Dense(input_dim = 250, activation='relu',units=250))\n",
    "model.add(Dropout(0.25))\n",
    "model.add(Dense(input_dim = 250, activation='relu',units=100))\n",
    "model.add(Dropout(0.25))\n",
    "\n",
    "model.add(Dense(input_dim = 100, activation='softmax',units=10))\n",
    "\n",
    "\n",
    "model.compile(optimizer= 'adam' , loss= keras.losses.binary_crossentropy, metrics=['accuracy'])\n",
    "\n",
    "model.fit(x_train, y_train, epochs = 25, batch_size = 256, validation_data=(x_val, y_val))"
   ]
  },
  {
   "cell_type": "code",
   "execution_count": null,
   "metadata": {},
   "outputs": [],
   "source": [
    "model.summary()"
   ]
  },
  {
   "cell_type": "code",
   "execution_count": null,
   "metadata": {},
   "outputs": [],
   "source": []
  }
 ],
 "metadata": {
  "kernelspec": {
   "display_name": "Python 3",
   "language": "python",
   "name": "python3"
  },
  "language_info": {
   "codemirror_mode": {
    "name": "ipython",
    "version": 3
   },
   "file_extension": ".py",
   "mimetype": "text/x-python",
   "name": "python",
   "nbconvert_exporter": "python",
   "pygments_lexer": "ipython3",
   "version": "3.8.3"
  }
 },
 "nbformat": 4,
 "nbformat_minor": 4
}
